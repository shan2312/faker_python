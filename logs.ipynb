{
 "cells": [
  {
   "cell_type": "code",
   "execution_count": 5,
   "metadata": {},
   "outputs": [],
   "source": [
    "from faker_usage import *"
   ]
  },
  {
   "cell_type": "code",
   "execution_count": 6,
   "metadata": {},
   "outputs": [
    {
     "name": "stdout",
     "output_type": "stream",
     "text": [
      "Time taken for tuple data structure: 6.037155499999983\n"
     ]
    }
   ],
   "source": [
    "start1 = time.perf_counter()\n",
    "statistics = calculate_statistics_with_named_tuples(10_000)\n",
    "print(f\"Time taken for tuple data structure: {time.perf_counter() - start1}\")"
   ]
  },
  {
   "cell_type": "code",
   "execution_count": 7,
   "metadata": {},
   "outputs": [
    {
     "data": {
      "text/plain": [
       "('A-',\n",
       " Decimal('0.59887400455'),\n",
       " Decimal('-0.6976930885'),\n",
       " 116.05753424657534,\n",
       " 58.174977260273984)"
      ]
     },
     "execution_count": 7,
     "metadata": {},
     "output_type": "execute_result"
    }
   ],
   "source": [
    "statistics"
   ]
  },
  {
   "cell_type": "code",
   "execution_count": null,
   "metadata": {},
   "outputs": [],
   "source": [
    "start2 = time.perf_counter()\n",
    "statistics = calculate_statistics_with_dict(10_000)\n",
    "print(f\"Time taken for dict data structure: {time.perf_counter() - start1}\")\n",
    "\n",
    "print(calculate_stock_market_statistics(100))"
   ]
  },
  {
   "cell_type": "code",
   "execution_count": null,
   "metadata": {},
   "outputs": [],
   "source": [
    "start2 = time.perf_counter()\n",
    "statistics = calculate_statistics_with_dict(10_000)\n",
    "print(f\"Time taken for dict data structure: {time.perf_counter() - start1}\")\n",
    "\n",
    "print(calculate_stock_market_statistics(100))"
   ]
  }
 ],
 "metadata": {
  "kernelspec": {
   "display_name": "cppm",
   "language": "python",
   "name": "python3"
  },
  "language_info": {
   "codemirror_mode": {
    "name": "ipython",
    "version": 3
   },
   "file_extension": ".py",
   "mimetype": "text/x-python",
   "name": "python",
   "nbconvert_exporter": "python",
   "pygments_lexer": "ipython3",
   "version": "3.9.6"
  }
 },
 "nbformat": 4,
 "nbformat_minor": 2
}
