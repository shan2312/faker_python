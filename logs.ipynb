{
 "cells": [
  {
   "cell_type": "code",
   "execution_count": 21,
   "metadata": {},
   "outputs": [],
   "source": [
    "from faker_usage import *"
   ]
  },
  {
   "cell_type": "code",
   "execution_count": 22,
   "metadata": {},
   "outputs": [
    {
     "ename": "NameError",
     "evalue": "name 'get_random_profiles' is not defined",
     "output_type": "error",
     "traceback": [
      "\u001b[0;31m---------------------------------------------------------------------------\u001b[0m",
      "\u001b[0;31mNameError\u001b[0m                                 Traceback (most recent call last)",
      "Cell \u001b[0;32mIn[22], line 1\u001b[0m\n\u001b[0;32m----> 1\u001b[0m profiles \u001b[38;5;241m=\u001b[39m \u001b[43mget_random_profiles\u001b[49m(\u001b[38;5;241m10_000\u001b[39m, [\u001b[38;5;124m\"\u001b[39m\u001b[38;5;124mblood_group\u001b[39m\u001b[38;5;124m\"\u001b[39m, \u001b[38;5;124m\"\u001b[39m\u001b[38;5;124mcurrent_location\u001b[39m\u001b[38;5;124m\"\u001b[39m, \u001b[38;5;124m\"\u001b[39m\u001b[38;5;124mbirthdate\u001b[39m\u001b[38;5;124m\"\u001b[39m])\n",
      "\u001b[0;31mNameError\u001b[0m: name 'get_random_profiles' is not defined"
     ]
    }
   ],
   "source": [
    "profiles = get_random_profiles(10_000, [\"blood_group\", \"current_location\", \"birthdate\"])"
   ]
  },
  {
   "cell_type": "code",
   "execution_count": 2,
   "metadata": {},
   "outputs": [
    {
     "name": "stdout",
     "output_type": "stream",
     "text": [
      "Time taken for tuple data structure: 5.720526834\n"
     ]
    }
   ],
   "source": [
    "start1 = time.perf_counter()\n",
    "statistics = calculate_statistics_with_named_tuples(10_000)\n",
    "print(f\"Time taken for tuple data structure: {time.perf_counter() - start1}\")"
   ]
  },
  {
   "cell_type": "code",
   "execution_count": 3,
   "metadata": {},
   "outputs": [
    {
     "data": {
      "text/plain": [
       "Statistics(largest_blood_group='A+', mean_lat=Decimal('-0.0544775039'), mean_long=Decimal('1.0915522521'), oldest_age=116.07671232876713, avg_age=58.91793808219207)"
      ]
     },
     "execution_count": 3,
     "metadata": {},
     "output_type": "execute_result"
    }
   ],
   "source": [
    "statistics"
   ]
  },
  {
   "cell_type": "code",
   "execution_count": 4,
   "metadata": {},
   "outputs": [
    {
     "name": "stdout",
     "output_type": "stream",
     "text": [
      "Time taken for dict data structure: 26.14846975\n"
     ]
    }
   ],
   "source": [
    "start2 = time.perf_counter()\n",
    "statistics = calculate_statistics_with_dict(10_000)\n",
    "print(f\"Time taken for dict data structure: {time.perf_counter() - start1}\")"
   ]
  },
  {
   "cell_type": "code",
   "execution_count": 5,
   "metadata": {},
   "outputs": [
    {
     "data": {
      "text/plain": [
       "Statistics(largest_blood_group='O-', mean_lat=Decimal('-0.2024725879'), mean_long=Decimal('0.7209239735'), oldest_age=116.07671232876713, avg_age=58.09722246575339)"
      ]
     },
     "execution_count": 5,
     "metadata": {},
     "output_type": "execute_result"
    }
   ],
   "source": [
    "statistics"
   ]
  },
  {
   "cell_type": "code",
   "execution_count": 6,
   "metadata": {},
   "outputs": [],
   "source": [
    "\n",
    "stock_stats = calculate_stock_market_statistics(100)"
   ]
  },
  {
   "cell_type": "code",
   "execution_count": 7,
   "metadata": {},
   "outputs": [
    {
     "data": {
      "text/plain": [
       "Statistics(stock_mkt_open=147.03709021548994, stock_mkt_high=186.1758761651002, stock_mkt_close=168.1935719969306)"
      ]
     },
     "execution_count": 7,
     "metadata": {},
     "output_type": "execute_result"
    }
   ],
   "source": [
    "stock_stats"
   ]
  },
  {
   "cell_type": "code",
   "execution_count": null,
   "metadata": {},
   "outputs": [],
   "source": []
  }
 ],
 "metadata": {
  "kernelspec": {
   "display_name": "cppm",
   "language": "python",
   "name": "python3"
  },
  "language_info": {
   "codemirror_mode": {
    "name": "ipython",
    "version": 3
   },
   "file_extension": ".py",
   "mimetype": "text/x-python",
   "name": "python",
   "nbconvert_exporter": "python",
   "pygments_lexer": "ipython3",
   "version": "3.9.6"
  }
 },
 "nbformat": 4,
 "nbformat_minor": 2
}
